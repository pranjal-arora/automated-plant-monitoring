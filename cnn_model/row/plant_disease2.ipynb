{
 "cells": [
  {
   "cell_type": "code",
   "execution_count": 1,
   "id": "E2ArX1LGBS_d",
   "metadata": {
    "id": "E2ArX1LGBS_d"
   },
   "outputs": [],
   "source": [
    "# !pip install tensorflow-gpu==2.3.0"
   ]
  },
  {
   "cell_type": "code",
   "execution_count": 2,
   "id": "MAG9FM74BS7S",
   "metadata": {
    "colab": {
     "base_uri": "https://localhost:8080/"
    },
    "id": "MAG9FM74BS7S",
    "outputId": "a0369459-36c5-431e-9a69-b4d24c98168a"
   },
   "outputs": [],
   "source": [
    "# from google.colab import drive\n",
    "# drive.mount('/content/gdrive')"
   ]
  },
  {
   "cell_type": "code",
   "execution_count": 1,
   "id": "cce45dae",
   "metadata": {
    "id": "cce45dae"
   },
   "outputs": [
    {
     "name": "stderr",
     "output_type": "stream",
     "text": [
      "C:\\Users\\ARYAN\\.conda\\envs\\project\\lib\\site-packages\\numpy\\_distributor_init.py:30: UserWarning: loaded more than 1 DLL from .libs:\n",
      "C:\\Users\\ARYAN\\.conda\\envs\\project\\lib\\site-packages\\numpy\\.libs\\libopenblas.GK7GX5KEQ4F6UYO3P26ULGBQYHGQO7J4.gfortran-win_amd64.dll\n",
      "C:\\Users\\ARYAN\\.conda\\envs\\project\\lib\\site-packages\\numpy\\.libs\\libopenblas64__v0.3.21-gcc_10_3_0.dll\n",
      "  warnings.warn(\"loaded more than 1 DLL from .libs:\"\n"
     ]
    }
   ],
   "source": [
    "import pandas as pd\n",
    "import seaborn as sns\n",
    "import matplotlib.pyplot as plt\n",
    "import numpy as np\n",
    "import os,cv2"
   ]
  },
  {
   "cell_type": "code",
   "execution_count": 2,
   "id": "9d6c3a68",
   "metadata": {
    "id": "9d6c3a68"
   },
   "outputs": [],
   "source": [
    "directory=\"PlantVillage2/\"\n",
    "classses=os.listdir(directory)"
   ]
  },
  {
   "cell_type": "code",
   "execution_count": 3,
   "id": "d452afc9",
   "metadata": {
    "colab": {
     "base_uri": "https://localhost:8080/"
    },
    "id": "d452afc9",
    "outputId": "baf7adf4-da35-4970-c2e5-ab141772edeb"
   },
   "outputs": [
    {
     "name": "stdout",
     "output_type": "stream",
     "text": [
      "PlantVillage2/Potato___Early_blight\n",
      "PlantVillage2/Potato___healthy\n",
      "PlantVillage2/Potato___Late_blight\n"
     ]
    }
   ],
   "source": [
    "import os\n",
    "import cv2\n",
    "image_size=224\n",
    "data1=[]#empty list\n",
    "for category in classses:\n",
    "    path = os.path.join(directory, category)\n",
    "    print(path)\n",
    "    label = classses.index(category)\n",
    "    for img in os.listdir(path):\n",
    "        img_path = os.path.join(path, img)\n",
    "        arr = cv2.imread(img_path)#Reading Images\n",
    "        arr = cv2.cvtColor(arr, cv2.COLOR_BGR2RGB)\n",
    "        new_arr = cv2.resize(arr, (image_size, image_size))#Resizing into same shape\n",
    "        data1.append([new_arr, label])"
   ]
  },
  {
   "cell_type": "code",
   "execution_count": 4,
   "id": "528a3f67",
   "metadata": {
    "id": "528a3f67"
   },
   "outputs": [],
   "source": [
    "import random\n",
    "random.shuffle(data1)"
   ]
  },
  {
   "cell_type": "code",
   "execution_count": 5,
   "id": "4805c370",
   "metadata": {
    "colab": {
     "base_uri": "https://localhost:8080/"
    },
    "id": "4805c370",
    "outputId": "5823c2ae-7115-4e8f-843e-6326072d8316"
   },
   "outputs": [
    {
     "data": {
      "text/plain": [
       "300"
      ]
     },
     "execution_count": 5,
     "metadata": {},
     "output_type": "execute_result"
    }
   ],
   "source": [
    "len(data1)"
   ]
  },
  {
   "cell_type": "code",
   "execution_count": 6,
   "id": "07ee87be",
   "metadata": {
    "colab": {
     "base_uri": "https://localhost:8080/"
    },
    "id": "07ee87be",
    "outputId": "cdc17844-d146-46ff-94ae-cd2c66b8a627"
   },
   "outputs": [
    {
     "data": {
      "text/plain": [
       "['Potato___Early_blight', 'Potato___healthy', 'Potato___Late_blight']"
      ]
     },
     "execution_count": 6,
     "metadata": {},
     "output_type": "execute_result"
    }
   ],
   "source": [
    "classses"
   ]
  },
  {
   "cell_type": "code",
   "execution_count": 7,
   "id": "4a9fad10",
   "metadata": {
    "colab": {
     "base_uri": "https://localhost:8080/"
    },
    "id": "4a9fad10",
    "outputId": "8028374e-4440-4cd9-fd3c-d329cfefeddd"
   },
   "outputs": [
    {
     "data": {
      "text/plain": [
       "3"
      ]
     },
     "execution_count": 7,
     "metadata": {},
     "output_type": "execute_result"
    }
   ],
   "source": [
    "len(classses)"
   ]
  },
  {
   "cell_type": "code",
   "execution_count": 8,
   "id": "61c0ce29",
   "metadata": {
    "id": "61c0ce29"
   },
   "outputs": [],
   "source": [
    "x=[]#ndependent\n",
    "y=[]#dependent\n",
    "for features,labels in data1:\n",
    "    x.append(features)\n",
    "    y.append(labels)"
   ]
  },
  {
   "cell_type": "code",
   "execution_count": 9,
   "id": "57d2e51a",
   "metadata": {
    "id": "57d2e51a"
   },
   "outputs": [],
   "source": [
    "x=np.array(x)\n",
    "y=np.array(y)\n",
    "#x=x/255 #feature scaling"
   ]
  },
  {
   "cell_type": "code",
   "execution_count": 10,
   "id": "204247a5",
   "metadata": {
    "id": "204247a5"
   },
   "outputs": [],
   "source": [
    "from sklearn.model_selection import train_test_split\n",
    "X_train,X_test,y_train,y_test=train_test_split(x,y,test_size=0.2)"
   ]
  },
  {
   "cell_type": "markdown",
   "id": "188df72c",
   "metadata": {},
   "source": [
    "# VGG16 "
   ]
  },
  {
   "cell_type": "code",
   "execution_count": 11,
   "id": "a6106aa2",
   "metadata": {
    "colab": {
     "base_uri": "https://localhost:8080/"
    },
    "id": "a6106aa2",
    "outputId": "efffa505-f713-418f-c911-4646a8c2cb89"
   },
   "outputs": [],
   "source": [
    "from tensorflow.keras import applications\n",
    "from tensorflow.keras import layers\n",
    "from tensorflow import keras\n",
    "from tensorflow.keras import optimizers\n",
    "from tensorflow.keras.models import Sequential ,Model, load_model\n",
    "from tensorflow.keras.layers import Dropout, Flatten, Dense ,Dropout\n",
    "from tensorflow.keras.callbacks import ModelCheckpoint, LearningRateScheduler, EarlyStopping, ReduceLROnPlateau, TensorBoard\n",
    "base_model = applications.VGG16(weights='imagenet', include_top=False, input_shape=(224,224,3))\n",
    "model = Sequential()\n",
    "model.add(base_model)\n",
    "model.add(Flatten(input_shape=base_model.output_shape[1:]))\n",
    "model.add(Dense(256, activation='relu'))\n",
    "model.add(Dropout(0.2))\n",
    "model.add(Dense(128, activation='relu'))\n",
    "model.add(Dropout(0.2))\n",
    "model.add(Dense(len(classses), activation='softmax'))\n",
    "model = Model(inputs=model.input, outputs=model.output)\n",
    "model.compile(loss='sparse_categorical_crossentropy',optimizer=optimizers.Adam(lr=1e-4),metrics=['accuracy'])"
   ]
  },
  {
   "cell_type": "code",
   "execution_count": 12,
   "id": "a904894e",
   "metadata": {
    "colab": {
     "base_uri": "https://localhost:8080/"
    },
    "id": "a904894e",
    "outputId": "52e63974-6bbf-42a5-8713-882307f9cabc"
   },
   "outputs": [
    {
     "name": "stdout",
     "output_type": "stream",
     "text": [
      "Epoch 1/15\n",
      "15/15 [==============================] - 173s 12s/step - loss: 2.6505 - accuracy: 0.3917 - val_loss: 0.6995 - val_accuracy: 0.8000\n",
      "Epoch 2/15\n",
      "15/15 [==============================] - 178s 12s/step - loss: 0.7435 - accuracy: 0.6792 - val_loss: 1.5929 - val_accuracy: 0.4500\n",
      "Epoch 3/15\n",
      "15/15 [==============================] - 173s 12s/step - loss: 1.1128 - accuracy: 0.5000 - val_loss: 0.8237 - val_accuracy: 0.7000\n",
      "Epoch 4/15\n",
      "15/15 [==============================] - 173s 12s/step - loss: 0.6406 - accuracy: 0.6958 - val_loss: 0.3447 - val_accuracy: 0.8333\n",
      "Epoch 5/15\n",
      "15/15 [==============================] - 163s 11s/step - loss: 0.3925 - accuracy: 0.8375 - val_loss: 0.2758 - val_accuracy: 0.8833\n",
      "Epoch 6/15\n",
      "15/15 [==============================] - 175s 12s/step - loss: 0.2505 - accuracy: 0.8792 - val_loss: 0.2561 - val_accuracy: 0.8833\n",
      "Epoch 7/15\n",
      "15/15 [==============================] - 163s 11s/step - loss: 0.3832 - accuracy: 0.8333 - val_loss: 0.2240 - val_accuracy: 0.9167\n",
      "Epoch 8/15\n",
      "15/15 [==============================] - 141s 9s/step - loss: 0.2018 - accuracy: 0.9333 - val_loss: 0.2546 - val_accuracy: 0.9167\n",
      "Epoch 9/15\n",
      "15/15 [==============================] - 141s 9s/step - loss: 0.0553 - accuracy: 0.9875 - val_loss: 0.2313 - val_accuracy: 0.9167\n",
      "Epoch 10/15\n",
      "15/15 [==============================] - 140s 9s/step - loss: 0.0310 - accuracy: 0.9917 - val_loss: 0.6174 - val_accuracy: 0.8500\n",
      "Epoch 11/15\n",
      "15/15 [==============================] - 153s 10s/step - loss: 0.0300 - accuracy: 0.9917 - val_loss: 0.1811 - val_accuracy: 0.9333\n",
      "Epoch 12/15\n",
      "15/15 [==============================] - 141s 9s/step - loss: 0.0178 - accuracy: 0.9958 - val_loss: 0.6156 - val_accuracy: 0.9000\n",
      "Epoch 13/15\n",
      "15/15 [==============================] - 140s 9s/step - loss: 0.0125 - accuracy: 0.9958 - val_loss: 0.4211 - val_accuracy: 0.9167\n",
      "Epoch 14/15\n",
      "15/15 [==============================] - 140s 9s/step - loss: 0.0784 - accuracy: 0.9833 - val_loss: 0.2698 - val_accuracy: 0.9167\n",
      "Epoch 15/15\n",
      "15/15 [==============================] - 141s 9s/step - loss: 0.1445 - accuracy: 0.9625 - val_loss: 0.2095 - val_accuracy: 0.9333\n"
     ]
    }
   ],
   "source": [
    "progess = model.fit(x=X_train,y=y_train,epochs=15,validation_data= (X_test, y_test),batch_size=16)"
   ]
  },
  {
   "cell_type": "code",
   "execution_count": 13,
   "id": "54b8b445",
   "metadata": {
    "colab": {
     "base_uri": "https://localhost:8080/",
     "height": 573
    },
    "id": "54b8b445",
    "outputId": "cf30ec6f-b856-44fa-c3bd-5e8fb3216c37"
   },
   "outputs": [
    {
     "data": {
      "image/png": "[encoded data removed]",
      "text/plain": [
       "<Figure size 640x480 with 1 Axes>"
      ]
     },
     "metadata": {},
     "output_type": "display_data"
    },
    {
     "data": {
      "image/png": "[encoded data removed]",
      "text/plain": [
       "<Figure size 640x480 with 1 Axes>"
      ]
     },
     "metadata": {},
     "output_type": "display_data"
    }
   ],
   "source": [
    "plt.plot(progess.history['accuracy'])\n",
    "plt.plot(progess.history['val_accuracy'])\n",
    "plt.title('model accuracy')\n",
    "plt.ylabel('accuracy')\n",
    "plt.xlabel('epoch')\n",
    "plt.legend(['train', 'test'], loc='upper left')\n",
    "plt.show()\n",
    "# summarize history for loss\n",
    "plt.plot(progess.history['loss'])\n",
    "plt.plot(progess.history['val_loss'])\n",
    "plt.title('model loss')\n",
    "plt.ylabel('loss')\n",
    "plt.xlabel('epoch')\n",
    "plt.legend(['train', 'test'], loc='upper left')\n",
    "plt.show()"
   ]
  },
  {
   "cell_type": "code",
   "execution_count": 14,
   "id": "1e0a1561",
   "metadata": {
    "id": "1e0a1561"
   },
   "outputs": [],
   "source": [
    "from sklearn.metrics import classification_report, confusion_matrix\n",
    "y_pred = model.predict(X_test)"
   ]
  },
  {
   "cell_type": "code",
   "execution_count": 15,
   "id": "21378ef5",
   "metadata": {
    "id": "21378ef5"
   },
   "outputs": [],
   "source": [
    "y_pred_new=[]\n",
    "for i in y_pred:\n",
    "    #print(i)\n",
    "    #break\n",
    "    y=np.argmax(i)\n",
    "    #break\n",
    "    #print(y)\n",
    "    y_pred_new.append(y)\n",
    "    #break"
   ]
  },
  {
   "cell_type": "code",
   "execution_count": 16,
   "id": "814a094a",
   "metadata": {
    "colab": {
     "base_uri": "https://localhost:8080/"
    },
    "id": "814a094a",
    "outputId": "6e94cbc9-13b1-48ce-aafb-9d78b04ec470"
   },
   "outputs": [
    {
     "name": "stdout",
     "output_type": "stream",
     "text": [
      "                       precision    recall  f1-score   support\n",
      "\n",
      "Potato___Early_blight       0.91      0.95      0.93        21\n",
      "     Potato___healthy       0.96      1.00      0.98        25\n",
      " Potato___Late_blight       0.92      0.79      0.85        14\n",
      "\n",
      "             accuracy                           0.93        60\n",
      "            macro avg       0.93      0.91      0.92        60\n",
      "         weighted avg       0.93      0.93      0.93        60\n",
      "\n"
     ]
    }
   ],
   "source": [
    "from sklearn.metrics import classification_report, confusion_matrix\n",
    "print(classification_report(y_test, y_pred_new, target_names=classses))"
   ]
  },
  {
   "cell_type": "code",
   "execution_count": 17,
   "id": "a28092a2",
   "metadata": {
    "colab": {
     "base_uri": "https://localhost:8080/",
     "height": 232
    },
    "id": "a28092a2",
    "outputId": "c092f4f4-bf25-469b-d22a-7cb6c70f3cd7"
   },
   "outputs": [
    {
     "data": {
      "text/plain": [
       "<AxesSubplot:>"
      ]
     },
     "execution_count": 17,
     "metadata": {},
     "output_type": "execute_result"
    },
    {
     "data": {
      "image/png": "[encoded data removed]",
      "text/plain": [
       "<Figure size 1000x300 with 2 Axes>"
      ]
     },
     "metadata": {},
     "output_type": "display_data"
    }
   ],
   "source": [
    "from sklearn import metrics\n",
    "cm=metrics.confusion_matrix(y_test,y_pred_new)\n",
    "import pandas as pd\n",
    "df_cm=pd.DataFrame(cm)\n",
    "import seaborn as sns\n",
    "plt.figure(figsize = (10,3))\n",
    "sns.heatmap(df_cm, annot=True)"
   ]
  },
  {
   "cell_type": "code",
   "execution_count": 18,
   "id": "i2ZequNEriRb",
   "metadata": {
    "colab": {
     "base_uri": "https://localhost:8080/"
    },
    "id": "i2ZequNEriRb",
    "outputId": "0ea8b3bc-24c7-4710-cb88-8a8b30f40fde"
   },
   "outputs": [
    {
     "name": "stdout",
     "output_type": "stream",
     "text": [
      "Saved model to disk\n"
     ]
    }
   ],
   "source": [
    "import json\n",
    "import h5py\n",
    "\n",
    "model_json = model.to_json()\n",
    "with open(\"VGG_model.json\", \"w\") as json_file:\n",
    "    json_file.write(model_json)\n",
    "# serialize weights to HDF5\n",
    "model.save_weights(\"VGG_model.h5\")\n",
    "print(\"Saved model to disk\")"
   ]
  },
  {
   "cell_type": "code",
   "execution_count": 19,
   "id": "u0VOVADmriOX",
   "metadata": {
    "colab": {
     "base_uri": "https://localhost:8080/"
    },
    "id": "u0VOVADmriOX",
    "outputId": "8cb15f7f-8c24-4853-a894-8cd6b8383557"
   },
   "outputs": [
    {
     "name": "stdout",
     "output_type": "stream",
     "text": [
      "Loaded model from disk\n"
     ]
    }
   ],
   "source": [
    "import tensorflow\n",
    "json_file = open('model.json', 'r')\n",
    "loaded_model_json = json_file.read()\n",
    "# json_file.close()\n",
    "loaded_model = tensorflow.keras.models.model_from_json(loaded_model_json)\n",
    "# load weights into new model\n",
    "loaded_model.load_weights(\"model.h5\")\n",
    "print(\"Loaded model from disk\")"
   ]
  },
  {
   "cell_type": "code",
   "execution_count": null,
   "id": "NW_iU1mIriHo",
   "metadata": {
    "id": "NW_iU1mIriHo"
   },
   "outputs": [],
   "source": []
  },
  {
   "cell_type": "markdown",
   "id": "00543c03",
   "metadata": {},
   "source": [
    "# Inception V3 "
   ]
  },
  {
   "cell_type": "code",
   "execution_count": 20,
   "id": "d4206cd6",
   "metadata": {},
   "outputs": [
    {
     "name": "stdout",
     "output_type": "stream",
     "text": [
      "Downloading data from https://storage.googleapis.com/tensorflow/keras-applications/inception_v3/inception_v3_weights_tf_dim_ordering_tf_kernels_notop.h5\n",
      "87916544/87910968 [==============================] - 24s 0us/step\n"
     ]
    }
   ],
   "source": [
    "from tensorflow.keras import applications\n",
    "from tensorflow.keras import layers\n",
    "from tensorflow import keras\n",
    "from tensorflow.keras import optimizers\n",
    "from tensorflow.keras.models import Sequential ,Model, load_model\n",
    "from tensorflow.keras.layers import Dropout, Flatten, Dense ,Dropout\n",
    "from tensorflow.keras.callbacks import ModelCheckpoint, LearningRateScheduler, EarlyStopping, ReduceLROnPlateau, TensorBoard\n",
    "base_model = applications.InceptionV3(weights='imagenet', include_top=False, input_shape=(224,224,3))\n",
    "incept_model = Sequential()\n",
    "incept_model.add(base_model)\n",
    "incept_model.add(Flatten(input_shape=base_model.output_shape[1:]))\n",
    "incept_model.add(Dense(256, activation='relu'))\n",
    "incept_model.add(Dropout(0.2))\n",
    "incept_model.add(Dense(128, activation='relu'))\n",
    "incept_model.add(Dropout(0.2))\n",
    "incept_model.add(Dense(len(classses), activation='softmax'))\n",
    "incept_model = Model(inputs=incept_model.input, outputs=incept_model.output)\n",
    "incept_model.compile(loss='sparse_categorical_crossentropy',optimizer=optimizers.Adam(learning_rate=0.0001),metrics=['accuracy'])"
   ]
  },
  {
   "cell_type": "code",
   "execution_count": 21,
   "id": "15317926",
   "metadata": {},
   "outputs": [
    {
     "name": "stdout",
     "output_type": "stream",
     "text": [
      "Epoch 1/15\n",
      "2/2 [==============================] - 39s 20s/step - loss: 1.9943 - accuracy: 0.2708 - val_loss: 4.9037 - val_accuracy: 0.3500\n",
      "Epoch 2/15\n",
      "2/2 [==============================] - 40s 20s/step - loss: 0.9890 - accuracy: 0.5542 - val_loss: 1.3980 - val_accuracy: 0.4167\n",
      "Epoch 3/15\n",
      "2/2 [==============================] - 40s 20s/step - loss: 0.7251 - accuracy: 0.7000 - val_loss: 1.3703 - val_accuracy: 0.2333\n",
      "Epoch 4/15\n",
      "2/2 [==============================] - 44s 22s/step - loss: 0.3337 - accuracy: 0.8917 - val_loss: 1.6979 - val_accuracy: 0.2000\n",
      "Epoch 5/15\n",
      "2/2 [==============================] - 41s 21s/step - loss: 0.2037 - accuracy: 0.9500 - val_loss: 1.6320 - val_accuracy: 0.3000\n",
      "Epoch 6/15\n",
      "2/2 [==============================] - 41s 21s/step - loss: 0.0933 - accuracy: 0.9792 - val_loss: 1.4918 - val_accuracy: 0.2333\n",
      "Epoch 7/15\n",
      "2/2 [==============================] - 43s 22s/step - loss: 0.0428 - accuracy: 0.9958 - val_loss: 1.3318 - val_accuracy: 0.3500\n",
      "Epoch 8/15\n",
      "2/2 [==============================] - 41s 20s/step - loss: 0.0263 - accuracy: 0.9917 - val_loss: 1.3467 - val_accuracy: 0.3333\n",
      "Epoch 9/15\n",
      "2/2 [==============================] - 41s 20s/step - loss: 0.0282 - accuracy: 0.9875 - val_loss: 1.3171 - val_accuracy: 0.4000\n",
      "Epoch 10/15\n",
      "2/2 [==============================] - 43s 21s/step - loss: 0.0121 - accuracy: 0.9958 - val_loss: 1.2892 - val_accuracy: 0.3500\n",
      "Epoch 11/15\n",
      "2/2 [==============================] - 43s 21s/step - loss: 0.0052 - accuracy: 1.0000 - val_loss: 1.3371 - val_accuracy: 0.3000\n",
      "Epoch 12/15\n",
      "2/2 [==============================] - 40s 20s/step - loss: 0.0062 - accuracy: 1.0000 - val_loss: 1.4170 - val_accuracy: 0.3500\n",
      "Epoch 13/15\n",
      "2/2 [==============================] - 41s 21s/step - loss: 0.0078 - accuracy: 0.9958 - val_loss: 1.5378 - val_accuracy: 0.3167\n",
      "Epoch 14/15\n",
      "2/2 [==============================] - 39s 20s/step - loss: 0.0020 - accuracy: 1.0000 - val_loss: 1.6529 - val_accuracy: 0.2167\n",
      "Epoch 15/15\n",
      "2/2 [==============================] - 42s 21s/step - loss: 0.0024 - accuracy: 1.0000 - val_loss: 1.7436 - val_accuracy: 0.2500\n"
     ]
    }
   ],
   "source": [
    "incept_progess = incept_model.fit(x=X_train,y=y_train,epochs=15,validation_data= (X_test, y_test),batch_size=128)"
   ]
  },
  {
   "cell_type": "code",
   "execution_count": 22,
   "id": "a9230974",
   "metadata": {},
   "outputs": [
    {
     "data": {
      "image/png": "[encoded data removed]",
      "text/plain": [
       "<Figure size 640x480 with 1 Axes>"
      ]
     },
     "metadata": {},
     "output_type": "display_data"
    },
    {
     "data": {
      "image/png": "[encoded data removed]",
      "text/plain": [
       "<Figure size 640x480 with 1 Axes>"
      ]
     },
     "metadata": {},
     "output_type": "display_data"
    }
   ],
   "source": [
    "plt.plot(incept_progess.history['accuracy'])\n",
    "plt.plot(incept_progess.history['val_accuracy'])\n",
    "plt.title('model accuracy')\n",
    "plt.ylabel('accuracy')\n",
    "plt.xlabel('epoch')\n",
    "plt.legend(['train', 'test'], loc='upper left')\n",
    "plt.show()\n",
    "# summarize history for loss\n",
    "plt.plot(incept_progess.history['loss'])\n",
    "plt.plot(incept_progess.history['val_loss'])\n",
    "plt.title('model loss')\n",
    "plt.ylabel('loss')\n",
    "plt.xlabel('epoch')\n",
    "plt.legend(['train', 'test'], loc='upper left')\n",
    "plt.show()"
   ]
  },
  {
   "cell_type": "code",
   "execution_count": 23,
   "id": "569a73ec",
   "metadata": {},
   "outputs": [],
   "source": [
    "from sklearn.metrics import classification_report, confusion_matrix\n",
    "y_pred = incept_model.predict(X_test)\n",
    "\n",
    "y_pred_new=[]\n",
    "for i in y_pred:\n",
    "    #print(i)\n",
    "    #break\n",
    "    y=np.argmax(i)\n",
    "    #break\n",
    "    #print(y)\n",
    "    y_pred_new.append(y)\n",
    "    #break\n"
   ]
  },
  {
   "cell_type": "code",
   "execution_count": 24,
   "id": "84fe68fa",
   "metadata": {},
   "outputs": [
    {
     "data": {
      "text/plain": [
       "<AxesSubplot:>"
      ]
     },
     "execution_count": 24,
     "metadata": {},
     "output_type": "execute_result"
    },
    {
     "data": {
      "image/png": "[encoded data removed]",
      "text/plain": [
       "<Figure size 1000x300 with 2 Axes>"
      ]
     },
     "metadata": {},
     "output_type": "display_data"
    }
   ],
   "source": [
    "from sklearn import metrics\n",
    "cm=metrics.confusion_matrix(y_test,y_pred_new)\n",
    "import pandas as pd\n",
    "df_cm=pd.DataFrame(cm)\n",
    "import seaborn as sns\n",
    "plt.figure(figsize = (10,3))\n",
    "sns.heatmap(df_cm, annot=True)"
   ]
  },
  {
   "cell_type": "code",
   "execution_count": 26,
   "id": "8b6143f0",
   "metadata": {},
   "outputs": [
    {
     "name": "stdout",
     "output_type": "stream",
     "text": [
      "Saved model to disk\n"
     ]
    }
   ],
   "source": [
    "import json\n",
    "import h5py\n",
    "\n",
    "model_json = incept_model.to_json()\n",
    "with open(\"incept_model.json\", \"w\") as json_file:\n",
    "    json_file.write(model_json)\n",
    "# serialize weights to HDF5\n",
    "incept_model.save_weights(\"incept_model.h5\")\n",
    "print(\"Saved model to disk\")"
   ]
  },
  {
   "cell_type": "markdown",
   "id": "0169571d",
   "metadata": {},
   "source": [
    "# Resnet 50 "
   ]
  },
  {
   "cell_type": "code",
   "execution_count": 27,
   "id": "17df1ea0",
   "metadata": {},
   "outputs": [
    {
     "name": "stdout",
     "output_type": "stream",
     "text": [
      "Downloading data from https://storage.googleapis.com/tensorflow/keras-applications/resnet/resnet50_weights_tf_dim_ordering_tf_kernels_notop.h5\n",
      "94773248/94765736 [==============================] - 44s 0us/step\n"
     ]
    }
   ],
   "source": [
    "from tensorflow.keras import applications\n",
    "from tensorflow.keras import layers\n",
    "from tensorflow import keras\n",
    "from tensorflow.keras import optimizers\n",
    "from tensorflow.keras.models import Sequential ,Model, load_model\n",
    "from tensorflow.keras.layers import Dropout, Flatten, Dense ,Dropout\n",
    "from tensorflow.keras.callbacks import ModelCheckpoint, LearningRateScheduler, EarlyStopping, ReduceLROnPlateau, TensorBoard\n",
    "base_model = applications.ResNet50(weights='imagenet', include_top=False, input_shape=(224,224,3))\n",
    "res_model = Sequential()\n",
    "res_model.add(base_model)\n",
    "res_model.add(Flatten(input_shape=base_model.output_shape[1:]))\n",
    "res_model.add(Dense(256, activation='relu'))\n",
    "res_model.add(Dropout(0.2))\n",
    "res_model.add(Dense(128, activation='relu'))\n",
    "res_model.add(Dropout(0.2))\n",
    "res_model.add(Dense(len(classses), activation='softmax'))\n",
    "res_model = Model(inputs=res_model.input, outputs=res_model.output)\n",
    "res_model.compile(loss='sparse_categorical_crossentropy',optimizer=optimizers.Adam(learning_rate=0.0001),metrics=['accuracy'])"
   ]
  },
  {
   "cell_type": "code",
   "execution_count": 28,
   "id": "06d1e3fa",
   "metadata": {},
   "outputs": [
    {
     "name": "stdout",
     "output_type": "stream",
     "text": [
      "Epoch 1/15\n"
     ]
    },
    {
     "ename": "ResourceExhaustedError",
     "evalue": " OOM when allocating tensor with shape[128,28,28,512] and type float on /job:localhost/replica:0/task:0/device:CPU:0 by allocator cpu\n\t [[node functional_5/resnet50/conv3_block1_3_bn/FusedBatchNormV3 (defined at \\AppData\\Local\\Temp\\ipykernel_25176\\2136997036.py:1) ]]\nHint: If you want to see a list of allocated tensors when OOM happens, add report_tensor_allocations_upon_oom to RunOptions for current allocation info.\n [Op:__inference_train_function_49535]\n\nFunction call stack:\ntrain_function\n",
     "output_type": "error",
     "traceback": [
      "\u001b[1;31m---------------------------------------------------------------------------\u001b[0m",
      "\u001b[1;31mResourceExhaustedError\u001b[0m                    Traceback (most recent call last)",
      "Cell \u001b[1;32mIn[28], line 1\u001b[0m\n\u001b[1;32m----> 1\u001b[0m res_progess \u001b[38;5;241m=\u001b[39m \u001b[43mres_model\u001b[49m\u001b[38;5;241;43m.\u001b[39;49m\u001b[43mfit\u001b[49m\u001b[43m(\u001b[49m\u001b[43mx\u001b[49m\u001b[38;5;241;43m=\u001b[39;49m\u001b[43mX_train\u001b[49m\u001b[43m,\u001b[49m\u001b[43my\u001b[49m\u001b[38;5;241;43m=\u001b[39;49m\u001b[43my_train\u001b[49m\u001b[43m,\u001b[49m\u001b[43mepochs\u001b[49m\u001b[38;5;241;43m=\u001b[39;49m\u001b[38;5;241;43m15\u001b[39;49m\u001b[43m,\u001b[49m\u001b[43mvalidation_data\u001b[49m\u001b[38;5;241;43m=\u001b[39;49m\u001b[43m \u001b[49m\u001b[43m(\u001b[49m\u001b[43mX_test\u001b[49m\u001b[43m,\u001b[49m\u001b[43m \u001b[49m\u001b[43my_test\u001b[49m\u001b[43m)\u001b[49m\u001b[43m,\u001b[49m\u001b[43mbatch_size\u001b[49m\u001b[38;5;241;43m=\u001b[39;49m\u001b[38;5;241;43m128\u001b[39;49m\u001b[43m)\u001b[49m\n",
      "File \u001b[1;32m~\\AppData\\Roaming\\Python\\Python38\\site-packages\\tensorflow\\python\\keras\\engine\\training.py:108\u001b[0m, in \u001b[0;36menable_multi_worker.<locals>._method_wrapper\u001b[1;34m(self, *args, **kwargs)\u001b[0m\n\u001b[0;32m    106\u001b[0m \u001b[38;5;28;01mdef\u001b[39;00m \u001b[38;5;21m_method_wrapper\u001b[39m(\u001b[38;5;28mself\u001b[39m, \u001b[38;5;241m*\u001b[39margs, \u001b[38;5;241m*\u001b[39m\u001b[38;5;241m*\u001b[39mkwargs):\n\u001b[0;32m    107\u001b[0m   \u001b[38;5;28;01mif\u001b[39;00m \u001b[38;5;129;01mnot\u001b[39;00m \u001b[38;5;28mself\u001b[39m\u001b[38;5;241m.\u001b[39m_in_multi_worker_mode():  \u001b[38;5;66;03m# pylint: disable=protected-access\u001b[39;00m\n\u001b[1;32m--> 108\u001b[0m     \u001b[38;5;28;01mreturn\u001b[39;00m \u001b[43mmethod\u001b[49m\u001b[43m(\u001b[49m\u001b[38;5;28;43mself\u001b[39;49m\u001b[43m,\u001b[49m\u001b[43m \u001b[49m\u001b[38;5;241;43m*\u001b[39;49m\u001b[43margs\u001b[49m\u001b[43m,\u001b[49m\u001b[43m \u001b[49m\u001b[38;5;241;43m*\u001b[39;49m\u001b[38;5;241;43m*\u001b[39;49m\u001b[43mkwargs\u001b[49m\u001b[43m)\u001b[49m\n\u001b[0;32m    110\u001b[0m   \u001b[38;5;66;03m# Running inside `run_distribute_coordinator` already.\u001b[39;00m\n\u001b[0;32m    111\u001b[0m   \u001b[38;5;28;01mif\u001b[39;00m dc_context\u001b[38;5;241m.\u001b[39mget_current_worker_context():\n",
      "File \u001b[1;32m~\\AppData\\Roaming\\Python\\Python38\\site-packages\\tensorflow\\python\\keras\\engine\\training.py:1098\u001b[0m, in \u001b[0;36mModel.fit\u001b[1;34m(self, x, y, batch_size, epochs, verbose, callbacks, validation_split, validation_data, shuffle, class_weight, sample_weight, initial_epoch, steps_per_epoch, validation_steps, validation_batch_size, validation_freq, max_queue_size, workers, use_multiprocessing)\u001b[0m\n\u001b[0;32m   1091\u001b[0m \u001b[38;5;28;01mwith\u001b[39;00m trace\u001b[38;5;241m.\u001b[39mTrace(\n\u001b[0;32m   1092\u001b[0m     \u001b[38;5;124m'\u001b[39m\u001b[38;5;124mTraceContext\u001b[39m\u001b[38;5;124m'\u001b[39m,\n\u001b[0;32m   1093\u001b[0m     graph_type\u001b[38;5;241m=\u001b[39m\u001b[38;5;124m'\u001b[39m\u001b[38;5;124mtrain\u001b[39m\u001b[38;5;124m'\u001b[39m,\n\u001b[0;32m   1094\u001b[0m     epoch_num\u001b[38;5;241m=\u001b[39mepoch,\n\u001b[0;32m   1095\u001b[0m     step_num\u001b[38;5;241m=\u001b[39mstep,\n\u001b[0;32m   1096\u001b[0m     batch_size\u001b[38;5;241m=\u001b[39mbatch_size):\n\u001b[0;32m   1097\u001b[0m   callbacks\u001b[38;5;241m.\u001b[39mon_train_batch_begin(step)\n\u001b[1;32m-> 1098\u001b[0m   tmp_logs \u001b[38;5;241m=\u001b[39m \u001b[43mtrain_function\u001b[49m\u001b[43m(\u001b[49m\u001b[43miterator\u001b[49m\u001b[43m)\u001b[49m\n\u001b[0;32m   1099\u001b[0m   \u001b[38;5;28;01mif\u001b[39;00m data_handler\u001b[38;5;241m.\u001b[39mshould_sync:\n\u001b[0;32m   1100\u001b[0m     context\u001b[38;5;241m.\u001b[39masync_wait()\n",
      "File \u001b[1;32m~\\AppData\\Roaming\\Python\\Python38\\site-packages\\tensorflow\\python\\eager\\def_function.py:780\u001b[0m, in \u001b[0;36mFunction.__call__\u001b[1;34m(self, *args, **kwds)\u001b[0m\n\u001b[0;32m    778\u001b[0m \u001b[38;5;28;01melse\u001b[39;00m:\n\u001b[0;32m    779\u001b[0m   compiler \u001b[38;5;241m=\u001b[39m \u001b[38;5;124m\"\u001b[39m\u001b[38;5;124mnonXla\u001b[39m\u001b[38;5;124m\"\u001b[39m\n\u001b[1;32m--> 780\u001b[0m   result \u001b[38;5;241m=\u001b[39m \u001b[38;5;28;43mself\u001b[39;49m\u001b[38;5;241;43m.\u001b[39;49m\u001b[43m_call\u001b[49m\u001b[43m(\u001b[49m\u001b[38;5;241;43m*\u001b[39;49m\u001b[43margs\u001b[49m\u001b[43m,\u001b[49m\u001b[43m \u001b[49m\u001b[38;5;241;43m*\u001b[39;49m\u001b[38;5;241;43m*\u001b[39;49m\u001b[43mkwds\u001b[49m\u001b[43m)\u001b[49m\n\u001b[0;32m    782\u001b[0m new_tracing_count \u001b[38;5;241m=\u001b[39m \u001b[38;5;28mself\u001b[39m\u001b[38;5;241m.\u001b[39m_get_tracing_count()\n\u001b[0;32m    783\u001b[0m without_tracing \u001b[38;5;241m=\u001b[39m (tracing_count \u001b[38;5;241m==\u001b[39m new_tracing_count)\n",
      "File \u001b[1;32m~\\AppData\\Roaming\\Python\\Python38\\site-packages\\tensorflow\\python\\eager\\def_function.py:840\u001b[0m, in \u001b[0;36mFunction._call\u001b[1;34m(self, *args, **kwds)\u001b[0m\n\u001b[0;32m    836\u001b[0m     \u001b[38;5;28;01mpass\u001b[39;00m  \u001b[38;5;66;03m# Fall through to cond-based initialization.\u001b[39;00m\n\u001b[0;32m    837\u001b[0m   \u001b[38;5;28;01melse\u001b[39;00m:\n\u001b[0;32m    838\u001b[0m     \u001b[38;5;66;03m# Lifting succeeded, so variables are initialized and we can run the\u001b[39;00m\n\u001b[0;32m    839\u001b[0m     \u001b[38;5;66;03m# stateless function.\u001b[39;00m\n\u001b[1;32m--> 840\u001b[0m     \u001b[38;5;28;01mreturn\u001b[39;00m \u001b[38;5;28;43mself\u001b[39;49m\u001b[38;5;241;43m.\u001b[39;49m\u001b[43m_stateless_fn\u001b[49m\u001b[43m(\u001b[49m\u001b[38;5;241;43m*\u001b[39;49m\u001b[43margs\u001b[49m\u001b[43m,\u001b[49m\u001b[43m \u001b[49m\u001b[38;5;241;43m*\u001b[39;49m\u001b[38;5;241;43m*\u001b[39;49m\u001b[43mkwds\u001b[49m\u001b[43m)\u001b[49m\n\u001b[0;32m    841\u001b[0m \u001b[38;5;28;01melse\u001b[39;00m:\n\u001b[0;32m    842\u001b[0m   canon_args, canon_kwds \u001b[38;5;241m=\u001b[39m \\\n\u001b[0;32m    843\u001b[0m       \u001b[38;5;28mself\u001b[39m\u001b[38;5;241m.\u001b[39m_stateful_fn\u001b[38;5;241m.\u001b[39m_function_spec\u001b[38;5;241m.\u001b[39mcanonicalize_function_inputs(  \u001b[38;5;66;03m# pylint: disable=protected-access\u001b[39;00m\n\u001b[0;32m    844\u001b[0m           \u001b[38;5;241m*\u001b[39margs, \u001b[38;5;241m*\u001b[39m\u001b[38;5;241m*\u001b[39mkwds)\n",
      "File \u001b[1;32m~\\AppData\\Roaming\\Python\\Python38\\site-packages\\tensorflow\\python\\eager\\function.py:2829\u001b[0m, in \u001b[0;36mFunction.__call__\u001b[1;34m(self, *args, **kwargs)\u001b[0m\n\u001b[0;32m   2827\u001b[0m \u001b[38;5;28;01mwith\u001b[39;00m \u001b[38;5;28mself\u001b[39m\u001b[38;5;241m.\u001b[39m_lock:\n\u001b[0;32m   2828\u001b[0m   graph_function, args, kwargs \u001b[38;5;241m=\u001b[39m \u001b[38;5;28mself\u001b[39m\u001b[38;5;241m.\u001b[39m_maybe_define_function(args, kwargs)\n\u001b[1;32m-> 2829\u001b[0m \u001b[38;5;28;01mreturn\u001b[39;00m \u001b[43mgraph_function\u001b[49m\u001b[38;5;241;43m.\u001b[39;49m\u001b[43m_filtered_call\u001b[49m\u001b[43m(\u001b[49m\u001b[43margs\u001b[49m\u001b[43m,\u001b[49m\u001b[43m \u001b[49m\u001b[43mkwargs\u001b[49m\u001b[43m)\u001b[49m\n",
      "File \u001b[1;32m~\\AppData\\Roaming\\Python\\Python38\\site-packages\\tensorflow\\python\\eager\\function.py:1843\u001b[0m, in \u001b[0;36mConcreteFunction._filtered_call\u001b[1;34m(self, args, kwargs, cancellation_manager)\u001b[0m\n\u001b[0;32m   1827\u001b[0m \u001b[38;5;28;01mdef\u001b[39;00m \u001b[38;5;21m_filtered_call\u001b[39m(\u001b[38;5;28mself\u001b[39m, args, kwargs, cancellation_manager\u001b[38;5;241m=\u001b[39m\u001b[38;5;28;01mNone\u001b[39;00m):\n\u001b[0;32m   1828\u001b[0m \u001b[38;5;250m  \u001b[39m\u001b[38;5;124;03m\"\"\"Executes the function, filtering arguments from the Python function.\u001b[39;00m\n\u001b[0;32m   1829\u001b[0m \n\u001b[0;32m   1830\u001b[0m \u001b[38;5;124;03m  Objects aside from Tensors, CompositeTensors, and Variables are ignored.\u001b[39;00m\n\u001b[1;32m   (...)\u001b[0m\n\u001b[0;32m   1841\u001b[0m \u001b[38;5;124;03m    `args` and `kwargs`.\u001b[39;00m\n\u001b[0;32m   1842\u001b[0m \u001b[38;5;124;03m  \"\"\"\u001b[39;00m\n\u001b[1;32m-> 1843\u001b[0m   \u001b[38;5;28;01mreturn\u001b[39;00m \u001b[38;5;28;43mself\u001b[39;49m\u001b[38;5;241;43m.\u001b[39;49m\u001b[43m_call_flat\u001b[49m\u001b[43m(\u001b[49m\n\u001b[0;32m   1844\u001b[0m \u001b[43m      \u001b[49m\u001b[43m[\u001b[49m\u001b[43mt\u001b[49m\u001b[43m \u001b[49m\u001b[38;5;28;43;01mfor\u001b[39;49;00m\u001b[43m \u001b[49m\u001b[43mt\u001b[49m\u001b[43m \u001b[49m\u001b[38;5;129;43;01min\u001b[39;49;00m\u001b[43m \u001b[49m\u001b[43mnest\u001b[49m\u001b[38;5;241;43m.\u001b[39;49m\u001b[43mflatten\u001b[49m\u001b[43m(\u001b[49m\u001b[43m(\u001b[49m\u001b[43margs\u001b[49m\u001b[43m,\u001b[49m\u001b[43m \u001b[49m\u001b[43mkwargs\u001b[49m\u001b[43m)\u001b[49m\u001b[43m,\u001b[49m\u001b[43m \u001b[49m\u001b[43mexpand_composites\u001b[49m\u001b[38;5;241;43m=\u001b[39;49m\u001b[38;5;28;43;01mTrue\u001b[39;49;00m\u001b[43m)\u001b[49m\n\u001b[0;32m   1845\u001b[0m \u001b[43m       \u001b[49m\u001b[38;5;28;43;01mif\u001b[39;49;00m\u001b[43m \u001b[49m\u001b[38;5;28;43misinstance\u001b[39;49m\u001b[43m(\u001b[49m\u001b[43mt\u001b[49m\u001b[43m,\u001b[49m\u001b[43m \u001b[49m\u001b[43m(\u001b[49m\u001b[43mops\u001b[49m\u001b[38;5;241;43m.\u001b[39;49m\u001b[43mTensor\u001b[49m\u001b[43m,\u001b[49m\n\u001b[0;32m   1846\u001b[0m \u001b[43m                         \u001b[49m\u001b[43mresource_variable_ops\u001b[49m\u001b[38;5;241;43m.\u001b[39;49m\u001b[43mBaseResourceVariable\u001b[49m\u001b[43m)\u001b[49m\u001b[43m)\u001b[49m\u001b[43m]\u001b[49m\u001b[43m,\u001b[49m\n\u001b[0;32m   1847\u001b[0m \u001b[43m      \u001b[49m\u001b[43mcaptured_inputs\u001b[49m\u001b[38;5;241;43m=\u001b[39;49m\u001b[38;5;28;43mself\u001b[39;49m\u001b[38;5;241;43m.\u001b[39;49m\u001b[43mcaptured_inputs\u001b[49m\u001b[43m,\u001b[49m\n\u001b[0;32m   1848\u001b[0m \u001b[43m      \u001b[49m\u001b[43mcancellation_manager\u001b[49m\u001b[38;5;241;43m=\u001b[39;49m\u001b[43mcancellation_manager\u001b[49m\u001b[43m)\u001b[49m\n",
      "File \u001b[1;32m~\\AppData\\Roaming\\Python\\Python38\\site-packages\\tensorflow\\python\\eager\\function.py:1923\u001b[0m, in \u001b[0;36mConcreteFunction._call_flat\u001b[1;34m(self, args, captured_inputs, cancellation_manager)\u001b[0m\n\u001b[0;32m   1918\u001b[0m possible_gradient_type \u001b[38;5;241m=\u001b[39m (\n\u001b[0;32m   1919\u001b[0m     pywrap_tfe\u001b[38;5;241m.\u001b[39mTFE_Py_TapeSetPossibleGradientTypes(args))\n\u001b[0;32m   1920\u001b[0m \u001b[38;5;28;01mif\u001b[39;00m (possible_gradient_type \u001b[38;5;241m==\u001b[39m _POSSIBLE_GRADIENT_TYPES_NONE\n\u001b[0;32m   1921\u001b[0m     \u001b[38;5;129;01mand\u001b[39;00m executing_eagerly):\n\u001b[0;32m   1922\u001b[0m   \u001b[38;5;66;03m# No tape is watching; skip to running the function.\u001b[39;00m\n\u001b[1;32m-> 1923\u001b[0m   \u001b[38;5;28;01mreturn\u001b[39;00m \u001b[38;5;28mself\u001b[39m\u001b[38;5;241m.\u001b[39m_build_call_outputs(\u001b[38;5;28;43mself\u001b[39;49m\u001b[38;5;241;43m.\u001b[39;49m\u001b[43m_inference_function\u001b[49m\u001b[38;5;241;43m.\u001b[39;49m\u001b[43mcall\u001b[49m\u001b[43m(\u001b[49m\n\u001b[0;32m   1924\u001b[0m \u001b[43m      \u001b[49m\u001b[43mctx\u001b[49m\u001b[43m,\u001b[49m\u001b[43m \u001b[49m\u001b[43margs\u001b[49m\u001b[43m,\u001b[49m\u001b[43m \u001b[49m\u001b[43mcancellation_manager\u001b[49m\u001b[38;5;241;43m=\u001b[39;49m\u001b[43mcancellation_manager\u001b[49m\u001b[43m)\u001b[49m)\n\u001b[0;32m   1925\u001b[0m forward_backward \u001b[38;5;241m=\u001b[39m \u001b[38;5;28mself\u001b[39m\u001b[38;5;241m.\u001b[39m_select_forward_and_backward_functions(\n\u001b[0;32m   1926\u001b[0m     args,\n\u001b[0;32m   1927\u001b[0m     possible_gradient_type,\n\u001b[0;32m   1928\u001b[0m     executing_eagerly)\n\u001b[0;32m   1929\u001b[0m forward_function, args_with_tangents \u001b[38;5;241m=\u001b[39m forward_backward\u001b[38;5;241m.\u001b[39mforward()\n",
      "File \u001b[1;32m~\\AppData\\Roaming\\Python\\Python38\\site-packages\\tensorflow\\python\\eager\\function.py:545\u001b[0m, in \u001b[0;36m_EagerDefinedFunction.call\u001b[1;34m(self, ctx, args, cancellation_manager)\u001b[0m\n\u001b[0;32m    543\u001b[0m \u001b[38;5;28;01mwith\u001b[39;00m _InterpolateFunctionError(\u001b[38;5;28mself\u001b[39m):\n\u001b[0;32m    544\u001b[0m   \u001b[38;5;28;01mif\u001b[39;00m cancellation_manager \u001b[38;5;129;01mis\u001b[39;00m \u001b[38;5;28;01mNone\u001b[39;00m:\n\u001b[1;32m--> 545\u001b[0m     outputs \u001b[38;5;241m=\u001b[39m \u001b[43mexecute\u001b[49m\u001b[38;5;241;43m.\u001b[39;49m\u001b[43mexecute\u001b[49m\u001b[43m(\u001b[49m\n\u001b[0;32m    546\u001b[0m \u001b[43m        \u001b[49m\u001b[38;5;28;43mstr\u001b[39;49m\u001b[43m(\u001b[49m\u001b[38;5;28;43mself\u001b[39;49m\u001b[38;5;241;43m.\u001b[39;49m\u001b[43msignature\u001b[49m\u001b[38;5;241;43m.\u001b[39;49m\u001b[43mname\u001b[49m\u001b[43m)\u001b[49m\u001b[43m,\u001b[49m\n\u001b[0;32m    547\u001b[0m \u001b[43m        \u001b[49m\u001b[43mnum_outputs\u001b[49m\u001b[38;5;241;43m=\u001b[39;49m\u001b[38;5;28;43mself\u001b[39;49m\u001b[38;5;241;43m.\u001b[39;49m\u001b[43m_num_outputs\u001b[49m\u001b[43m,\u001b[49m\n\u001b[0;32m    548\u001b[0m \u001b[43m        \u001b[49m\u001b[43minputs\u001b[49m\u001b[38;5;241;43m=\u001b[39;49m\u001b[43margs\u001b[49m\u001b[43m,\u001b[49m\n\u001b[0;32m    549\u001b[0m \u001b[43m        \u001b[49m\u001b[43mattrs\u001b[49m\u001b[38;5;241;43m=\u001b[39;49m\u001b[43mattrs\u001b[49m\u001b[43m,\u001b[49m\n\u001b[0;32m    550\u001b[0m \u001b[43m        \u001b[49m\u001b[43mctx\u001b[49m\u001b[38;5;241;43m=\u001b[39;49m\u001b[43mctx\u001b[49m\u001b[43m)\u001b[49m\n\u001b[0;32m    551\u001b[0m   \u001b[38;5;28;01melse\u001b[39;00m:\n\u001b[0;32m    552\u001b[0m     outputs \u001b[38;5;241m=\u001b[39m execute\u001b[38;5;241m.\u001b[39mexecute_with_cancellation(\n\u001b[0;32m    553\u001b[0m         \u001b[38;5;28mstr\u001b[39m(\u001b[38;5;28mself\u001b[39m\u001b[38;5;241m.\u001b[39msignature\u001b[38;5;241m.\u001b[39mname),\n\u001b[0;32m    554\u001b[0m         num_outputs\u001b[38;5;241m=\u001b[39m\u001b[38;5;28mself\u001b[39m\u001b[38;5;241m.\u001b[39m_num_outputs,\n\u001b[1;32m   (...)\u001b[0m\n\u001b[0;32m    557\u001b[0m         ctx\u001b[38;5;241m=\u001b[39mctx,\n\u001b[0;32m    558\u001b[0m         cancellation_manager\u001b[38;5;241m=\u001b[39mcancellation_manager)\n",
      "File \u001b[1;32m~\\AppData\\Roaming\\Python\\Python38\\site-packages\\tensorflow\\python\\eager\\execute.py:59\u001b[0m, in \u001b[0;36mquick_execute\u001b[1;34m(op_name, num_outputs, inputs, attrs, ctx, name)\u001b[0m\n\u001b[0;32m     57\u001b[0m \u001b[38;5;28;01mtry\u001b[39;00m:\n\u001b[0;32m     58\u001b[0m   ctx\u001b[38;5;241m.\u001b[39mensure_initialized()\n\u001b[1;32m---> 59\u001b[0m   tensors \u001b[38;5;241m=\u001b[39m \u001b[43mpywrap_tfe\u001b[49m\u001b[38;5;241;43m.\u001b[39;49m\u001b[43mTFE_Py_Execute\u001b[49m\u001b[43m(\u001b[49m\u001b[43mctx\u001b[49m\u001b[38;5;241;43m.\u001b[39;49m\u001b[43m_handle\u001b[49m\u001b[43m,\u001b[49m\u001b[43m \u001b[49m\u001b[43mdevice_name\u001b[49m\u001b[43m,\u001b[49m\u001b[43m \u001b[49m\u001b[43mop_name\u001b[49m\u001b[43m,\u001b[49m\n\u001b[0;32m     60\u001b[0m \u001b[43m                                      \u001b[49m\u001b[43minputs\u001b[49m\u001b[43m,\u001b[49m\u001b[43m \u001b[49m\u001b[43mattrs\u001b[49m\u001b[43m,\u001b[49m\u001b[43m \u001b[49m\u001b[43mnum_outputs\u001b[49m\u001b[43m)\u001b[49m\n\u001b[0;32m     61\u001b[0m \u001b[38;5;28;01mexcept\u001b[39;00m core\u001b[38;5;241m.\u001b[39m_NotOkStatusException \u001b[38;5;28;01mas\u001b[39;00m e:\n\u001b[0;32m     62\u001b[0m   \u001b[38;5;28;01mif\u001b[39;00m name \u001b[38;5;129;01mis\u001b[39;00m \u001b[38;5;129;01mnot\u001b[39;00m \u001b[38;5;28;01mNone\u001b[39;00m:\n",
      "\u001b[1;31mResourceExhaustedError\u001b[0m:  OOM when allocating tensor with shape[128,28,28,512] and type float on /job:localhost/replica:0/task:0/device:CPU:0 by allocator cpu\n\t [[node functional_5/resnet50/conv3_block1_3_bn/FusedBatchNormV3 (defined at \\AppData\\Local\\Temp\\ipykernel_25176\\2136997036.py:1) ]]\nHint: If you want to see a list of allocated tensors when OOM happens, add report_tensor_allocations_upon_oom to RunOptions for current allocation info.\n [Op:__inference_train_function_49535]\n\nFunction call stack:\ntrain_function\n"
     ]
    }
   ],
   "source": [
    "res_progess = res_model.fit(x=X_train,y=y_train,epochs=15,validation_data= (X_test, y_test),batch_size=128)"
   ]
  },
  {
   "cell_type": "code",
   "execution_count": null,
   "id": "b9881378",
   "metadata": {},
   "outputs": [],
   "source": [
    "plt.plot(res_progess.history['accuracy'])\n",
    "plt.plot(res_progess.history['val_accuracy'])\n",
    "plt.title('model accuracy')\n",
    "plt.ylabel('accuracy')\n",
    "plt.xlabel('epoch')\n",
    "plt.legend(['train', 'test'], loc='upper left')\n",
    "plt.show()\n",
    "# summarize history for loss\n",
    "plt.plot(res_progess.history['loss'])\n",
    "plt.plot(res_progess.history['val_loss'])\n",
    "plt.title('model loss')\n",
    "plt.ylabel('loss')\n",
    "plt.xlabel('epoch')\n",
    "plt.legend(['train', 'test'], loc='upper left')\n",
    "plt.show()"
   ]
  },
  {
   "cell_type": "code",
   "execution_count": null,
   "id": "c12cfbce",
   "metadata": {},
   "outputs": [],
   "source": [
    "from sklearn.metrics import classification_report, confusion_matrix\n",
    "y_pred = res_model.predict(X_test)\n",
    "\n",
    "y_pred_new=[]\n",
    "for i in y_pred:\n",
    "    #print(i)\n",
    "    #break\n",
    "    y=np.argmax(i)\n",
    "    #break\n",
    "    #print(y)\n",
    "    y_pred_new.append(y)\n",
    "    #break"
   ]
  },
  {
   "cell_type": "code",
   "execution_count": null,
   "id": "41bd30fc",
   "metadata": {},
   "outputs": [],
   "source": [
    "from sklearn import metrics\n",
    "cm=metrics.confusion_matrix(y_test,y_pred_new)\n",
    "import pandas as pd\n",
    "df_cm=pd.DataFrame(cm)\n",
    "import seaborn as sns\n",
    "plt.figure(figsize = (10,3))\n",
    "sns.heatmap(df_cm, annot=True)"
   ]
  },
  {
   "cell_type": "code",
   "execution_count": null,
   "id": "a4811eb8",
   "metadata": {},
   "outputs": [],
   "source": [
    "import json\n",
    "import h5py\n",
    "\n",
    "model_json = res_model.to_json()\n",
    "with open(\"res_model.json\", \"w\") as json_file:\n",
    "    json_file.write(model_json)\n",
    "# serialize weights to HDF5\n",
    "res_model.save_weights(\"res_model.h5\")\n",
    "print(\"Saved model to disk\")"
   ]
  },
  {
   "cell_type": "code",
   "execution_count": null,
   "id": "133f668b",
   "metadata": {},
   "outputs": [],
   "source": []
  },
  {
   "cell_type": "code",
   "execution_count": null,
   "id": "abab16dc",
   "metadata": {},
   "outputs": [],
   "source": []
  },
  {
   "cell_type": "code",
   "execution_count": null,
   "id": "46bfaa9f",
   "metadata": {},
   "outputs": [],
   "source": []
  },
  {
   "cell_type": "code",
   "execution_count": null,
   "id": "3477125f",
   "metadata": {},
   "outputs": [],
   "source": []
  },
  {
   "cell_type": "code",
   "execution_count": null,
   "id": "e66f9358",
   "metadata": {},
   "outputs": [],
   "source": []
  },
  {
   "cell_type": "code",
   "execution_count": null,
   "id": "2c66200a",
   "metadata": {},
   "outputs": [],
   "source": []
  },
  {
   "cell_type": "code",
   "execution_count": null,
   "id": "c8d4a552",
   "metadata": {},
   "outputs": [],
   "source": []
  },
  {
   "cell_type": "code",
   "execution_count": null,
   "id": "658ae19a",
   "metadata": {},
   "outputs": [],
   "source": []
  },
  {
   "cell_type": "code",
   "execution_count": null,
   "id": "077669ea",
   "metadata": {},
   "outputs": [],
   "source": []
  },
  {
   "cell_type": "code",
   "execution_count": null,
   "id": "c3e890ed",
   "metadata": {},
   "outputs": [],
   "source": []
  },
  {
   "cell_type": "code",
   "execution_count": null,
   "id": "2594a869",
   "metadata": {},
   "outputs": [],
   "source": []
  },
  {
   "cell_type": "code",
   "execution_count": null,
   "id": "e2c4ae73",
   "metadata": {},
   "outputs": [],
   "source": []
  },
  {
   "cell_type": "code",
   "execution_count": null,
   "id": "f60126f7",
   "metadata": {},
   "outputs": [],
   "source": []
  },
  {
   "cell_type": "code",
   "execution_count": null,
   "id": "f170e1aa",
   "metadata": {},
   "outputs": [],
   "source": []
  },
  {
   "cell_type": "code",
   "execution_count": null,
   "id": "9828b0e1",
   "metadata": {},
   "outputs": [],
   "source": []
  },
  {
   "cell_type": "code",
   "execution_count": null,
   "id": "7a2b311a",
   "metadata": {},
   "outputs": [],
   "source": []
  },
  {
   "cell_type": "code",
   "execution_count": null,
   "id": "846e7823",
   "metadata": {},
   "outputs": [],
   "source": []
  },
  {
   "cell_type": "code",
   "execution_count": null,
   "id": "4819117b",
   "metadata": {},
   "outputs": [],
   "source": []
  },
  {
   "cell_type": "code",
   "execution_count": null,
   "id": "44f139fc",
   "metadata": {},
   "outputs": [],
   "source": []
  },
  {
   "cell_type": "code",
   "execution_count": null,
   "id": "2e176e9a",
   "metadata": {},
   "outputs": [],
   "source": []
  },
  {
   "cell_type": "code",
   "execution_count": null,
   "id": "1bdb0951",
   "metadata": {},
   "outputs": [],
   "source": []
  },
  {
   "cell_type": "code",
   "execution_count": null,
   "id": "ba6a4b44",
   "metadata": {},
   "outputs": [],
   "source": []
  },
  {
   "cell_type": "code",
   "execution_count": null,
   "id": "7afabeeb",
   "metadata": {},
   "outputs": [],
   "source": []
  },
  {
   "cell_type": "code",
   "execution_count": null,
   "id": "f75516fe",
   "metadata": {},
   "outputs": [],
   "source": []
  },
  {
   "cell_type": "code",
   "execution_count": null,
   "id": "fae15cea",
   "metadata": {},
   "outputs": [],
   "source": []
  },
  {
   "cell_type": "code",
   "execution_count": null,
   "id": "adcf17c9",
   "metadata": {},
   "outputs": [],
   "source": []
  },
  {
   "cell_type": "code",
   "execution_count": null,
   "id": "885d3006",
   "metadata": {},
   "outputs": [],
   "source": []
  },
  {
   "cell_type": "code",
   "execution_count": null,
   "id": "4296caf5",
   "metadata": {},
   "outputs": [],
   "source": []
  },
  {
   "cell_type": "code",
   "execution_count": null,
   "id": "0aabda03",
   "metadata": {},
   "outputs": [],
   "source": []
  },
  {
   "cell_type": "code",
   "execution_count": null,
   "id": "a59382b2",
   "metadata": {},
   "outputs": [],
   "source": []
  },
  {
   "cell_type": "code",
   "execution_count": null,
   "id": "a17d2895",
   "metadata": {},
   "outputs": [],
   "source": []
  },
  {
   "cell_type": "code",
   "execution_count": null,
   "id": "acbf9f82",
   "metadata": {},
   "outputs": [],
   "source": []
  },
  {
   "cell_type": "code",
   "execution_count": null,
   "id": "ff62d53d",
   "metadata": {},
   "outputs": [],
   "source": []
  },
  {
   "cell_type": "code",
   "execution_count": null,
   "id": "84a41454",
   "metadata": {},
   "outputs": [],
   "source": []
  },
  {
   "cell_type": "code",
   "execution_count": null,
   "id": "b7858822",
   "metadata": {},
   "outputs": [],
   "source": []
  },
  {
   "cell_type": "code",
   "execution_count": null,
   "id": "98862c6d",
   "metadata": {},
   "outputs": [],
   "source": []
  },
  {
   "cell_type": "code",
   "execution_count": null,
   "id": "27e2b5aa",
   "metadata": {},
   "outputs": [],
   "source": []
  },
  {
   "cell_type": "code",
   "execution_count": null,
   "id": "8d748489",
   "metadata": {},
   "outputs": [],
   "source": []
  },
  {
   "cell_type": "code",
   "execution_count": null,
   "id": "ffd79772",
   "metadata": {},
   "outputs": [],
   "source": []
  },
  {
   "cell_type": "code",
   "execution_count": null,
   "id": "4ad4b1cc",
   "metadata": {},
   "outputs": [],
   "source": []
  },
  {
   "cell_type": "code",
   "execution_count": null,
   "id": "b2c21c00",
   "metadata": {},
   "outputs": [],
   "source": []
  },
  {
   "cell_type": "code",
   "execution_count": null,
   "id": "0f7d8c02",
   "metadata": {},
   "outputs": [],
   "source": []
  },
  {
   "cell_type": "code",
   "execution_count": null,
   "id": "757d33ce",
   "metadata": {},
   "outputs": [],
   "source": []
  },
  {
   "cell_type": "code",
   "execution_count": null,
   "id": "ec4a503c",
   "metadata": {},
   "outputs": [],
   "source": []
  },
  {
   "cell_type": "code",
   "execution_count": null,
   "id": "d30ccede",
   "metadata": {},
   "outputs": [],
   "source": []
  },
  {
   "cell_type": "code",
   "execution_count": null,
   "id": "8a383847",
   "metadata": {},
   "outputs": [],
   "source": []
  },
  {
   "cell_type": "code",
   "execution_count": null,
   "id": "303cad3d",
   "metadata": {},
   "outputs": [],
   "source": []
  },
  {
   "cell_type": "code",
   "execution_count": null,
   "id": "e721444d",
   "metadata": {},
   "outputs": [],
   "source": []
  },
  {
   "cell_type": "code",
   "execution_count": null,
   "id": "786c26d2",
   "metadata": {},
   "outputs": [],
   "source": []
  },
  {
   "cell_type": "code",
   "execution_count": null,
   "id": "34785a7d",
   "metadata": {},
   "outputs": [],
   "source": []
  },
  {
   "cell_type": "code",
   "execution_count": null,
   "id": "798dee31",
   "metadata": {},
   "outputs": [],
   "source": []
  },
  {
   "cell_type": "code",
   "execution_count": null,
   "id": "87939679",
   "metadata": {},
   "outputs": [],
   "source": []
  },
  {
   "cell_type": "code",
   "execution_count": null,
   "id": "c61e6a3e",
   "metadata": {},
   "outputs": [],
   "source": []
  },
  {
   "cell_type": "code",
   "execution_count": null,
   "id": "8985b15c",
   "metadata": {},
   "outputs": [],
   "source": []
  },
  {
   "cell_type": "code",
   "execution_count": null,
   "id": "57700971",
   "metadata": {},
   "outputs": [],
   "source": []
  },
  {
   "cell_type": "code",
   "execution_count": null,
   "id": "69dd9e44",
   "metadata": {},
   "outputs": [],
   "source": []
  },
  {
   "cell_type": "code",
   "execution_count": null,
   "id": "8e812e2e",
   "metadata": {},
   "outputs": [],
   "source": []
  },
  {
   "cell_type": "code",
   "execution_count": null,
   "id": "8f10eb26",
   "metadata": {},
   "outputs": [],
   "source": []
  },
  {
   "cell_type": "code",
   "execution_count": null,
   "id": "976a8283",
   "metadata": {},
   "outputs": [],
   "source": []
  },
  {
   "cell_type": "code",
   "execution_count": null,
   "id": "a6494dc0",
   "metadata": {},
   "outputs": [],
   "source": []
  },
  {
   "cell_type": "code",
   "execution_count": null,
   "id": "1dece892",
   "metadata": {},
   "outputs": [],
   "source": []
  },
  {
   "cell_type": "code",
   "execution_count": null,
   "id": "9fe8bd63",
   "metadata": {},
   "outputs": [],
   "source": []
  },
  {
   "cell_type": "code",
   "execution_count": null,
   "id": "cabc7f47",
   "metadata": {},
   "outputs": [],
   "source": []
  },
  {
   "cell_type": "code",
   "execution_count": null,
   "id": "fd22f6bf",
   "metadata": {},
   "outputs": [],
   "source": []
  },
  {
   "cell_type": "code",
   "execution_count": 22,
   "id": "3bfd54bc",
   "metadata": {
    "id": "3bfd54bc"
   },
   "outputs": [],
   "source": [
    "# model.save(\"VGGSKin.hp5\")"
   ]
  },
  {
   "cell_type": "code",
   "execution_count": 23,
   "id": "8FloQxmnCVvj",
   "metadata": {
    "colab": {
     "base_uri": "https://localhost:8080/"
    },
    "id": "8FloQxmnCVvj",
    "outputId": "bf702028-9f8b-4722-aa1a-a482766b90c3"
   },
   "outputs": [],
   "source": [
    "# !zip -r '/content/VGG_plant2.zip' '/content/VGGSKin.h5'"
   ]
  },
  {
   "cell_type": "code",
   "execution_count": 24,
   "id": "7e23232f",
   "metadata": {
    "colab": {
     "base_uri": "https://localhost:8080/"
    },
    "id": "7e23232f",
    "outputId": "fb34eca8-fa4e-4e3d-d348-17da68d3c0a7"
   },
   "outputs": [
    {
     "name": "stdout",
     "output_type": "stream",
     "text": [
      "Pepper__bell___Bacterial_spot.JPG\n"
     ]
    },
    {
     "name": "stderr",
     "output_type": "stream",
     "text": [
      "Using TensorFlow backend.\n"
     ]
    },
    {
     "name": "stdout",
     "output_type": "stream",
     "text": [
      "<class 'numpy.ndarray'>\n",
      "[0.7197319  0.00426756 0.27600056]\n",
      "0\n",
      "Pepper__bell___Bacterial_spot Detected in Image\n",
      "-----------------------------------------------\n",
      "Pepper__bell___healthy.JPG\n",
      "<class 'numpy.ndarray'>\n",
      "[0.33593976 0.21330543 0.45075485]\n",
      "2\n",
      "Potato___Early_blight Detected in Image\n",
      "-----------------------------------------------\n",
      "Potato___Early_blight.JPG\n",
      "<class 'numpy.ndarray'>\n",
      "[0.6665199  0.08778576 0.24569432]\n",
      "0\n",
      "Pepper__bell___Bacterial_spot Detected in Image\n",
      "-----------------------------------------------\n",
      "Potato___healthy.JPG\n",
      "<class 'numpy.ndarray'>\n",
      "[5.1108669e-05 9.9833918e-01 1.6097402e-03]\n",
      "1\n",
      "Pepper__bell___healthy Detected in Image\n",
      "-----------------------------------------------\n",
      "Potato___Late_blight.JPG\n",
      "<class 'numpy.ndarray'>\n",
      "[4.6521527e-04 7.0085891e-02 9.2944890e-01]\n",
      "2\n",
      "Potato___Early_blight Detected in Image\n",
      "-----------------------------------------------\n",
      "Tomato_Bacterial_spot.JPG\n",
      "<class 'numpy.ndarray'>\n",
      "[0.00519821 0.11004102 0.8847608 ]\n",
      "2\n",
      "Potato___Early_blight Detected in Image\n",
      "-----------------------------------------------\n",
      "Tomato_Early_blight.JPG\n",
      "<class 'numpy.ndarray'>\n",
      "[0.0060013  0.10066488 0.8933338 ]\n",
      "2\n",
      "Potato___Early_blight Detected in Image\n",
      "-----------------------------------------------\n",
      "Tomato_healthy.JPG\n",
      "<class 'numpy.ndarray'>\n",
      "[0.46678966 0.2661118  0.2670985 ]\n",
      "0\n",
      "Pepper__bell___Bacterial_spot Detected in Image\n",
      "-----------------------------------------------\n",
      "Tomato_Late_blight.JPG\n",
      "<class 'numpy.ndarray'>\n",
      "[0.05875392 0.008267   0.93297905]\n",
      "2\n",
      "Potato___Early_blight Detected in Image\n",
      "-----------------------------------------------\n",
      "Tomato_Leaf_Mold.JPG\n",
      "<class 'numpy.ndarray'>\n",
      "[0.03535408 0.0235     0.94114596]\n",
      "2\n",
      "Potato___Early_blight Detected in Image\n",
      "-----------------------------------------------\n",
      "Tomato_Septoria_leaf_spot.JPG\n",
      "<class 'numpy.ndarray'>\n",
      "[0.31396183 0.00613979 0.6798984 ]\n",
      "2\n",
      "Potato___Early_blight Detected in Image\n",
      "-----------------------------------------------\n",
      "Tomato_Spider_mites_Two_spotted_spider_mite.JPG\n",
      "<class 'numpy.ndarray'>\n",
      "[0.00340502 0.1800886  0.8165063 ]\n",
      "2\n",
      "Potato___Early_blight Detected in Image\n",
      "-----------------------------------------------\n",
      "Tomato__Target_Spot.JPG\n",
      "<class 'numpy.ndarray'>\n",
      "[0.11626825 0.00903056 0.87470114]\n",
      "2\n",
      "Potato___Early_blight Detected in Image\n",
      "-----------------------------------------------\n",
      "Tomato__Tomato_mosaic_virus.JPG\n",
      "<class 'numpy.ndarray'>\n",
      "[0.04447688 0.05689007 0.898633  ]\n",
      "2\n",
      "Potato___Early_blight Detected in Image\n",
      "-----------------------------------------------\n",
      "Tomato__Tomato_YellowLeaf__Curl_Virus.JPG\n",
      "<class 'numpy.ndarray'>\n",
      "[0.00415957 0.00248158 0.9933589 ]\n",
      "2\n",
      "Potato___Early_blight Detected in Image\n",
      "-----------------------------------------------\n"
     ]
    }
   ],
   "source": [
    "for i in os.listdir(\"test\"):\n",
    "    print(i)\n",
    "    \n",
    "    from tensorflow import keras\n",
    "    # model = keras.models.load_model('/content/VGGSKin.h5')\n",
    "    model = loaded_model\n",
    "    from keras.preprocessing import image\n",
    "    image_size=224\n",
    "    #img = cv2.imread(path1+\"//\"+i)\n",
    "    path=\"test/\"+i\n",
    "    img = image.load_img(path, target_size=(image_size, image_size))\n",
    "    x = image.img_to_array(img)\n",
    "    print(type(x))\n",
    "    img_4d=x.reshape(1,224,224,3)\n",
    "    #img_4d=img_4d/255\n",
    "    # model = keras.models.load_model('/content/VGGSKin.h5')\n",
    "    model = loaded_model\n",
    "    predictions = model.predict(img_4d)\n",
    "    print(predictions[0])\n",
    "    new_pred=np.argmax(predictions[0])\n",
    "    print(new_pred)\n",
    "    # dict1={0:'acne',1:'hairloss',2:'melanoma',3:'snailfungus',4:'vitiligo'}\n",
    "    \n",
    "# ['Pepper__bell___Bacterial_spot',\n",
    "#  'Pepper__bell___healthy',\n",
    "#  'Potato___Early_blight',\n",
    "#  'Potato___healthy',\n",
    "#  'Potato___Late_blight',\n",
    "#  'Tomato_Bacterial_spot',\n",
    "#  'Tomato_Early_blight',\n",
    "#  'Tomato_healthy',\n",
    "#  'Tomato_Late_blight',\n",
    "#  'Tomato_Leaf_Mold',\n",
    "#  'Tomato_Septoria_leaf_spot',\n",
    "#  'Tomato__Target_Spot',\n",
    "#  'Tomato__Tomato_mosaic_virus']\n",
    "    \n",
    "    \n",
    "    dict1={0:'Potato___Early_blight',\n",
    "            1:'Potato___healthy',\n",
    "            2:'Potato___Late_blight'}\n",
    "    a=dict1[new_pred]\n",
    "    \n",
    "    print(str(a)+\" Detected in Image\")\n",
    "    print(\"-----------------------------------------------\")\n",
    "    #break"
   ]
  },
  {
   "cell_type": "code",
   "execution_count": null,
   "id": "474ce7f0",
   "metadata": {
    "id": "474ce7f0"
   },
   "outputs": [],
   "source": []
  },
  {
   "cell_type": "code",
   "execution_count": null,
   "id": "dd2c01e2",
   "metadata": {},
   "outputs": [],
   "source": []
  }
 ],
 "metadata": {
  "accelerator": "GPU",
  "colab": {
   "provenance": []
  },
  "gpuClass": "standard",
  "kernelspec": {
   "display_name": "Python 3 (ipykernel)",
   "language": "python",
   "name": "python3"
  },
  "language_info": {
   "codemirror_mode": {
    "name": "ipython",
    "version": 3
   },
   "file_extension": ".py",
   "mimetype": "text/x-python",
   "name": "python",
   "nbconvert_exporter": "python",
   "pygments_lexer": "ipython3",
   "version": "3.8.13"
  }
 },
 "nbformat": 4,
 "nbformat_minor": 5
}
