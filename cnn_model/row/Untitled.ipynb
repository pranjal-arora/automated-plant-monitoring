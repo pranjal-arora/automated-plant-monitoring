{
 "cells": [
  {
   "cell_type": "code",
   "execution_count": 2,
   "id": "085e073d",
   "metadata": {},
   "outputs": [
    {
     "name": "stdout",
     "output_type": "stream",
     "text": [
      "[19.0728, 72.8826]\n",
      "{'neighbourhood': 'Hallow Pul', 'suburb': 'L Ward', 'city_district': 'Zone 5', 'city': 'Mumbai', 'state_district': 'Mumbai Suburban', 'state': 'Maharashtra', 'ISO3166-2-lvl4': 'IN-MH', 'postcode': '400070', 'country': 'India', 'country_code': 'in'}\n",
      "L Ward\n"
     ]
    }
   ],
   "source": [
    "from geopy.geocoders import Nominatim\n",
    "import geocoder\n",
    "\n",
    "geolocator = Nominatim(user_agent=\"geoapiExercises\")\n",
    "\n",
    "g = geocoder.ip('me')\n",
    "print(g.latlng)\n",
    "\n",
    "location = geolocator.reverse(str(g.latlng[0])+\",\"+str(g.latlng[1]))\n",
    "address = location.raw['address']\n",
    "print(address)\n",
    "print(address.get('suburb'))\n",
    "\n",
    "# city = address.get('city', '')\n",
    "# state = address.get('state', '')\n",
    "# country = address.get('country', '')\n",
    "# code = address.get('country_code')\n",
    "# zipcode = address.get('postcode')\n",
    "# print('City : ',city)\n",
    "# print('State : ',state)\n",
    "# print('Country : ',country)\n",
    "# print('Zip Code : ', zipcode)\n"
   ]
  },
  {
   "cell_type": "code",
   "execution_count": null,
   "id": "e5e55814",
   "metadata": {},
   "outputs": [],
   "source": []
  }
 ],
 "metadata": {
  "kernelspec": {
   "display_name": "Python 3 (ipykernel)",
   "language": "python",
   "name": "python3"
  },
  "language_info": {
   "codemirror_mode": {
    "name": "ipython",
    "version": 3
   },
   "file_extension": ".py",
   "mimetype": "text/x-python",
   "name": "python",
   "nbconvert_exporter": "python",
   "pygments_lexer": "ipython3",
   "version": "3.8.13"
  }
 },
 "nbformat": 4,
 "nbformat_minor": 5
}
