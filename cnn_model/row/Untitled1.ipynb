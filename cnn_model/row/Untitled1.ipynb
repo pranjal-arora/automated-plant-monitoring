{
 "cells": [
  {
   "cell_type": "code",
   "execution_count": 1,
   "id": "5211e422",
   "metadata": {},
   "outputs": [],
   "source": [
    "import pandas as pd"
   ]
  },
  {
   "cell_type": "code",
   "execution_count": 2,
   "id": "1f5c482b",
   "metadata": {},
   "outputs": [
    {
     "data": {
      "text/html": [
       "<div>\n",
       "<style scoped>\n",
       "    .dataframe tbody tr th:only-of-type {\n",
       "        vertical-align: middle;\n",
       "    }\n",
       "\n",
       "    .dataframe tbody tr th {\n",
       "        vertical-align: top;\n",
       "    }\n",
       "\n",
       "    .dataframe thead th {\n",
       "        text-align: right;\n",
       "    }\n",
       "</style>\n",
       "<table border=\"1\" class=\"dataframe\">\n",
       "  <thead>\n",
       "    <tr style=\"text-align: right;\">\n",
       "      <th></th>\n",
       "      <th>disease</th>\n",
       "      <th>solution</th>\n",
       "    </tr>\n",
       "  </thead>\n",
       "  <tbody>\n",
       "    <tr>\n",
       "      <th>0</th>\n",
       "      <td>Pepper__bell___Bacterial_spot</td>\n",
       "      <td>Seed treatment with hot water, soaking seeds f...</td>\n",
       "    </tr>\n",
       "    <tr>\n",
       "      <th>1</th>\n",
       "      <td>Pepper__bell___healthy</td>\n",
       "      <td>Bell peppers (Capsicum annuum) are fruits that...</td>\n",
       "    </tr>\n",
       "    <tr>\n",
       "      <th>2</th>\n",
       "      <td>Potato___Early_blight</td>\n",
       "      <td>Treatment of early blight includes prevention ...</td>\n",
       "    </tr>\n",
       "    <tr>\n",
       "      <th>3</th>\n",
       "      <td>Potato___healthy</td>\n",
       "      <td>Potatoes are a good source of fiber, which can...</td>\n",
       "    </tr>\n",
       "    <tr>\n",
       "      <th>4</th>\n",
       "      <td>Potato___Late_blight</td>\n",
       "      <td>If there is some sign of blight and the potato...</td>\n",
       "    </tr>\n",
       "    <tr>\n",
       "      <th>5</th>\n",
       "      <td>Tomato_Bacterial_spot</td>\n",
       "      <td>A plant with bacterial spot cannot be cured. R...</td>\n",
       "    </tr>\n",
       "    <tr>\n",
       "      <th>6</th>\n",
       "      <td>Tomato_Early_blight</td>\n",
       "      <td>GardenTech brand's Daconil fungicides stop, co...</td>\n",
       "    </tr>\n",
       "    <tr>\n",
       "      <th>7</th>\n",
       "      <td>Tomato_healthy</td>\n",
       "      <td>Lycopene also may help lower your levels of LD...</td>\n",
       "    </tr>\n",
       "    <tr>\n",
       "      <th>8</th>\n",
       "      <td>Tomato_Late_blight</td>\n",
       "      <td>Spraying fungicides is the most effective way ...</td>\n",
       "    </tr>\n",
       "    <tr>\n",
       "      <th>9</th>\n",
       "      <td>Tomato_Leaf_Mold</td>\n",
       "      <td>Applying fungicides when symptoms first appear...</td>\n",
       "    </tr>\n",
       "    <tr>\n",
       "      <th>10</th>\n",
       "      <td>Tomato_Septoria_leaf_spot</td>\n",
       "      <td>Remove infected leaves immediately, and be sur...</td>\n",
       "    </tr>\n",
       "    <tr>\n",
       "      <th>11</th>\n",
       "      <td>Tomato__Target_Spot</td>\n",
       "      <td>Many fungicides are registered to control of t...</td>\n",
       "    </tr>\n",
       "    <tr>\n",
       "      <th>12</th>\n",
       "      <td>Tomato__Tomato_mosaic_virus</td>\n",
       "      <td>Once plants are infected, there is no cure for...</td>\n",
       "    </tr>\n",
       "  </tbody>\n",
       "</table>\n",
       "</div>"
      ],
      "text/plain": [
       "                          disease  \\\n",
       "0   Pepper__bell___Bacterial_spot   \n",
       "1          Pepper__bell___healthy   \n",
       "2           Potato___Early_blight   \n",
       "3                Potato___healthy   \n",
       "4            Potato___Late_blight   \n",
       "5           Tomato_Bacterial_spot   \n",
       "6             Tomato_Early_blight   \n",
       "7                  Tomato_healthy   \n",
       "8              Tomato_Late_blight   \n",
       "9                Tomato_Leaf_Mold   \n",
       "10      Tomato_Septoria_leaf_spot   \n",
       "11            Tomato__Target_Spot   \n",
       "12    Tomato__Tomato_mosaic_virus   \n",
       "\n",
       "                                             solution  \n",
       "0   Seed treatment with hot water, soaking seeds f...  \n",
       "1   Bell peppers (Capsicum annuum) are fruits that...  \n",
       "2   Treatment of early blight includes prevention ...  \n",
       "3   Potatoes are a good source of fiber, which can...  \n",
       "4   If there is some sign of blight and the potato...  \n",
       "5   A plant with bacterial spot cannot be cured. R...  \n",
       "6   GardenTech brand's Daconil fungicides stop, co...  \n",
       "7   Lycopene also may help lower your levels of LD...  \n",
       "8   Spraying fungicides is the most effective way ...  \n",
       "9   Applying fungicides when symptoms first appear...  \n",
       "10  Remove infected leaves immediately, and be sur...  \n",
       "11  Many fungicides are registered to control of t...  \n",
       "12  Once plants are infected, there is no cure for...  "
      ]
     },
     "execution_count": 2,
     "metadata": {},
     "output_type": "execute_result"
    }
   ],
   "source": [
    "df = pd.read_csv('Solutions.csv',encoding= 'unicode_escape')\n",
    "df"
   ]
  },
  {
   "cell_type": "code",
   "execution_count": 4,
   "id": "549c8098",
   "metadata": {},
   "outputs": [
    {
     "data": {
      "text/plain": [
       "{0: 'Seed treatment with hot water, soaking seeds for 30 minutes in water pre-heated to 125 F/51 C, is effective in reducing bacterial populations on the surface and inside the seeds. However, seed germination may be affected by heat treatment if not done accurately, while the risk is relatively low with bleach treatment.',\n",
       " 1: 'Bell peppers (Capsicum annuum) are fruits that belong to the nightshade family. They are low in calories and rich in vitamin C and other antioxidants, making them an excellent addition to a healthy diet.',\n",
       " 2: 'Treatment of early blight includes\\xa0prevention by planting potato varieties that are resistant to the disease; late maturing ones are more resistant than early maturing varieties. Avoid overhead irrigation and allow for sufficient aeration between plants to allow the foliage to dry as quickly as possible.',\n",
       " 3: 'Potatoes are a good source of fiber, which can help you lose weight by keeping you full longer. Fiber can help prevent heart disease by keeping cholesterol and blood sugar levels in check. Potatoes are also full of antioxidants that work to prevent diseases and vitamins that help your body function properly.',\n",
       " 4: 'If there is some sign of blight and the potatoes are not mature, use Dithane (mancozeb) MZ or you can also use Tattoo C or Acrobat MZ. Acrobat used later in the season reduces late blight spores.',\n",
       " 5: 'A plant with bacterial spot\\xa0cannot be cured. Remove symptomatic plants from the field or greenhouse to prevent the spread of bacteria to healthy plants. Burn, bury or hot compost the affected plants and DO NOT eat symptomatic fruit.',\n",
       " 6: \"GardenTech brand's Daconil fungicides stop, control, and prevent early tomato blight and more than 65 other fungal diseases. Treat tomato plants early in the season, as soon as soon weather conditions favor early blight. Then maintain control with treatments every seven to 10 days.\",\n",
       " 7: 'Lycopene also may help lower your levels of LDL, or \\x93bad\\x94 cholesterol, as well as your blood pressure. And that may lower your chances of heart disease. Other nutrients in tomatoes, like vitamins B and E and antioxidants called flavonoids, may boost your heart health, too.',\n",
       " 8: 'Spraying fungicides\\xa0is the most effective way to prevent late blight. For conventional gardeners and commercial producers, protectant fungicides such as chlorothalonil (e.g., Bravo, Echo, Equus, or Daconil) and Mancozeb (Manzate) can be used.',\n",
       " 9: 'Applying fungicides when symptoms first appear can reduce the spread of the leaf mold fungus significantly. Several fungicides are labeled for leaf mold control on tomatoes and can provide good disease control if applied to all the foliage of the plant, especially the lower surfaces of the leaves.',\n",
       " 10: 'Remove infected leaves immediately, and be sure to wash your hands and pruners thoroughly before working with uninfected plants.',\n",
       " 11: 'Many fungicides are registered to control of target spot on tomatoes. Growers should consult regional disease management guides for recommended products. Products containing\\xa0chlorothalonil, mancozeb, and copper oxychloride\\xa0have been shown to provide good control of target spot in research trials.',\n",
       " 12: \"Once plants are infected, there is no cure for mosaic viruses. Because of this, prevention is key! However, if plants in your garden do show symptoms of having mosaic viruses, here's how to minimize the damage:\\xa0Remove all infected plants and destroy them.\"}"
      ]
     },
     "execution_count": 4,
     "metadata": {},
     "output_type": "execute_result"
    }
   ],
   "source": [
    "df.to_dict('dict')['solution']"
   ]
  },
  {
   "cell_type": "code",
   "execution_count": null,
   "id": "d0d294ca",
   "metadata": {},
   "outputs": [],
   "source": []
  }
 ],
 "metadata": {
  "kernelspec": {
   "display_name": "Python 3 (ipykernel)",
   "language": "python",
   "name": "python3"
  },
  "language_info": {
   "codemirror_mode": {
    "name": "ipython",
    "version": 3
   },
   "file_extension": ".py",
   "mimetype": "text/x-python",
   "name": "python",
   "nbconvert_exporter": "python",
   "pygments_lexer": "ipython3",
   "version": "3.8.13"
  }
 },
 "nbformat": 4,
 "nbformat_minor": 5
}
